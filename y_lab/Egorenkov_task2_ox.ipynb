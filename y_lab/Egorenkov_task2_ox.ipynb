{
 "cells": [
  {
   "cell_type": "code",
   "execution_count": 1,
   "id": "d08c0346-8554-4878-8cf1-2de145cc0d05",
   "metadata": {},
   "outputs": [
    {
     "name": "stderr",
     "output_type": "stream",
     "text": [
      "[INFO   ] [Logger      ] Record log in C:\\Users\\MSIVI\\.kivy\\logs\\kivy_22-02-08_15.txt\n",
      "[INFO   ] [Kivy        ] v2.0.0\n",
      "[INFO   ] [Kivy        ] Installed at \"D:\\Anaconda\\envs\\kivyenv\\lib\\site-packages\\kivy\\__init__.py\"\n",
      "[INFO   ] [Python      ] v3.9.10 | packaged by conda-forge | (main, Feb  1 2022, 21:22:07) [MSC v.1929 64 bit (AMD64)]\n",
      "[INFO   ] [Python      ] Interpreter at \"D:\\Anaconda\\envs\\kivyenv\\python.exe\"\n",
      "[INFO   ] [Factory     ] 186 symbols loaded\n",
      "[INFO   ] [Image       ] Providers: img_tex, img_dds, img_sdl2, img_pil (img_ffpyplayer ignored)\n",
      "[INFO   ] [Text        ] Provider: sdl2\n",
      "[INFO   ] [Window      ] Provider: sdl2\n",
      "[INFO   ] [GL          ] Using the \"OpenGL\" graphics system\n",
      "[INFO   ] [GL          ] GLEW initialization succeeded\n",
      "[INFO   ] [GL          ] Backend used <glew>\n",
      "[INFO   ] [GL          ] OpenGL version <b'4.5.0 - Build 25.20.100.6373'>\n",
      "[INFO   ] [GL          ] OpenGL vendor <b'Intel'>\n",
      "[INFO   ] [GL          ] OpenGL renderer <b'Intel(R) HD Graphics 630'>\n",
      "[INFO   ] [GL          ] OpenGL parsed version: 4, 5\n",
      "[INFO   ] [GL          ] Shading version <b'4.50 - Build 25.20.100.6373'>\n",
      "[INFO   ] [GL          ] Texture max size <16384>\n",
      "[INFO   ] [GL          ] Texture max units <32>\n",
      "[INFO   ] [Window      ] auto add sdl2 input provider\n",
      "[INFO   ] [Window      ] virtual keyboard not allowed, single mode, not docked\n"
     ]
    }
   ],
   "source": [
    "import kivy\n",
    "\n",
    "from kivy.app import App\n",
    "from kivy.uix.label import Label\n",
    "from kivy.uix.button import Button\n",
    "from kivy.uix.gridlayout import GridLayout\n",
    "from kivy.uix.screenmanager import ScreenManager, Screen, SlideTransition\n",
    "from kivy.graphics import *\n",
    "from kivy.graphics.texture import Texture\n",
    "\n",
    "import numpy as np\n",
    "curr_field = np.ones((10, 10), dtype = str) #starting with empty field\n",
    "curr_field.fill('_')\n",
    "player_side = 'X'\n",
    "s_f = 4 #scale factor\n",
    "\n",
    "\n",
    "class Field_Screen(GridLayout):\n",
    "    def __init__(self, **kwargs):\n",
    "        super().__init__(cols=5, **kwargs)\n",
    "\n",
    "        from array import array\n",
    "        arr = draw_texture(curr_field)\n",
    "\n",
    "        arr = array('B', arr)\n",
    "        \n",
    "        texture = Texture.create(size=(128*s_f, 128*s_f))\n",
    "        texture.blit_buffer(arr, colorfmt='rgb', bufferfmt='ubyte')\n",
    "        with self.canvas:\n",
    "            Rectangle(texture=texture, pos=(4, 4), size=(128*s_f, 128*s_f))\n",
    "            \n",
    "        for i in range(10):\n",
    "            btn = Button(text=str(i), background_color = [0, 0, 0, 0])\n",
    "            self.add_widget(btn)\n",
    "            btn.bind(on_press=self.callback_turn(value = i))\n",
    "        \n",
    "    def callback_turn(self, instance, value):\n",
    "        curr_field[0, 0] = 'X'\n",
    "        xo_app.screen_manager.transition = SlideTransition(direction = 'right')\n",
    "        xo_app.screen_manager.current = 'Starting'\n",
    "        xo_app.screen_manager.transition = SlideTransition(direction = 'left')\n",
    "        xo_app.screen_manager.current = 'Field'\n",
    "        \n",
    "\n",
    "\n",
    "class Starting_Screen(GridLayout):\n",
    "\n",
    "    def __init__(self, **kwargs):\n",
    "        super().__init__(cols=2, **kwargs)\n",
    "    \n",
    "        self.add_widget(Label())\n",
    "        self.add_widget(Label())\n",
    "        self.add_widget(Label())\n",
    "        self.add_widget(Label())\n",
    "        \n",
    "        self.add_widget(Label(text='[color=00ffff]CHOOSE[/color]',markup = True, font_size = 40))\n",
    "        self.add_widget(Label(text='[color=ff00ff]SIDE[/color]',markup = True, font_size = 40))\n",
    "        \n",
    "        button_color_X = [1, 0, 1, 1]\n",
    "        btnX = Button(text='X', font_size = 30, background_color = button_color_X, size = [75, 10])\n",
    "        btnX.bind(on_press=self.callback_X)\n",
    "        self.add_widget(btnX)\n",
    "        \n",
    "        button_color_O = [0, 1, 1, 1]\n",
    "        btnO = Button(text='O', font_size = 30, background_color = button_color_O, size = [75, 50])\n",
    "        btnO.bind(on_press=self.callback_O)\n",
    "        self.add_widget(btnO)\n",
    "        \n",
    "        self.add_widget(Label())\n",
    "        self.add_widget(Label())\n",
    "        self.add_widget(Label())\n",
    "        self.add_widget(Label())\n",
    "        \n",
    "    def callback_X(self, instance):\n",
    "        player_side = 'X'\n",
    "        xo_app.screen_manager.transition = SlideTransition(direction = 'left')\n",
    "        xo_app.screen_manager.current = 'Field'\n",
    "        \n",
    "        \n",
    "    def callback_O(self, instance):\n",
    "        player_side = 'O'\n",
    "        xo_app.screen_manager.transition = SlideTransition(direction = 'left')\n",
    "        xo_app.screen_manager.current = 'Field'\n",
    "\n",
    "   "
   ]
  },
  {
   "cell_type": "code",
   "execution_count": 2,
   "id": "62ef716c-c499-4f9d-92d6-3314b6883049",
   "metadata": {},
   "outputs": [],
   "source": [
    "def draw_texture(field):\n",
    "    O_texture = np.array([[0, 0, 0, 0, 0, 0, 0, 0, 0, 0, 0],\n",
    "                          [0, 0, 0, 0, 0, 0, 0, 0, 0, 0, 0],\n",
    "                          [0, 0, 0, 0, 1, 1, 1, 0, 0, 0, 0],\n",
    "                          [0, 0, 0, 1, 0, 0, 0, 1, 0, 0, 0],\n",
    "                          [0, 0, 1, 0, 0, 0, 0, 0, 1, 0, 0],\n",
    "                          [0, 0, 1, 0, 0, 0, 0, 0, 1, 0, 0],\n",
    "                          [0, 0, 1, 0, 0, 0, 0, 0, 1, 0, 0],\n",
    "                          [0, 0, 0, 1, 0, 0, 0, 1, 0, 0, 0],\n",
    "                          [0, 0, 0, 0, 1, 1, 1, 0, 0, 0, 0],\n",
    "                          [0, 0, 0, 0, 0, 0, 0, 0, 0, 0, 0],\n",
    "                          [0, 0, 0, 0, 0, 0, 0, 0, 0, 0, 0]])\n",
    "\n",
    "    X_texture = np.array([[0, 0, 0, 0, 0, 0, 0, 0, 0, 0, 0],\n",
    "                          [0, 0, 0, 0, 0, 0, 0, 0, 0, 0, 0],\n",
    "                          [0, 0, 1, 0, 0, 0, 0, 0, 1, 0, 0],\n",
    "                          [0, 0, 0, 1, 0, 0, 0, 1, 0, 0, 0],\n",
    "                          [0, 0, 0, 0, 1, 0, 1, 0, 0, 0, 0],\n",
    "                          [0, 0, 0, 0, 0, 1, 0, 0, 0, 0, 0],\n",
    "                          [0, 0, 0, 0, 1, 0, 1, 0, 0, 0, 0],\n",
    "                          [0, 0, 0, 1, 0, 0, 0, 1, 0, 0, 0],\n",
    "                          [0, 0, 1, 0, 0, 0, 0, 0, 1, 0, 0],\n",
    "                          [0, 0, 0, 0, 0, 0, 0, 0, 0, 0, 0],\n",
    "                          [0, 0, 0, 0, 0, 0, 0, 0, 0, 0, 0]])\n",
    "\n",
    "    empty_slot_texture = np.zeros((11,11), dtype = 'int')\n",
    "    vert_bar_texture = np.ones((11,2), dtype = 'int')\n",
    "    horis_bar_texture = np.ones((2,11), dtype = 'int')\n",
    "    corner_texture = np.ones((2,2), dtype = 'int')\n",
    "\n",
    "\n",
    "    rows, cols = (19, 19)\n",
    "    block_scheme = [[0 for i in range(cols)] for j in range(rows)]\n",
    "\n",
    "    \n",
    "    for i in range(9):\n",
    "        for j in range(9):\n",
    "            if field[i, j] == 'X':\n",
    "                block_scheme[i*2][j*2] = X_texture\n",
    "\n",
    "            elif field[i, j] == 'O':\n",
    "                block_scheme[i*2][j*2] = O_texture\n",
    "\n",
    "            elif field[i, j] == '_':\n",
    "                block_scheme[i*2][j*2] = empty_slot_texture\n",
    "\n",
    "            block_scheme[i*2+1][j*2] = horis_bar_texture\n",
    "            block_scheme[i*2][j*2+1] = vert_bar_texture\n",
    "            block_scheme[i*2+1][j*2+1] = corner_texture\n",
    "    j = 9\n",
    "    for i in range(9):\n",
    "        if field[i, j] == 'X':\n",
    "            block_scheme[i*2][j*2] = X_texture\n",
    "\n",
    "        elif field[i, j] == 'O':\n",
    "            block_scheme[i*2][j*2] = O_texture\n",
    "\n",
    "        elif field[i, j] == '_':\n",
    "            block_scheme[i*2][j*2] = empty_slot_texture\n",
    "\n",
    "        block_scheme[i*2+1][j*2] = horis_bar_texture\n",
    "\n",
    "\n",
    "    i = 9    \n",
    "    for j in range(9):\n",
    "        if field[i, j] == 'X':\n",
    "            block_scheme[i*2][j*2] = X_texture\n",
    "\n",
    "        elif field[i, j] == 'O':\n",
    "            block_scheme[i*2][j*2] = O_texture\n",
    "\n",
    "        elif field[i, j] == '_':\n",
    "            block_scheme[i*2][j*2] = empty_slot_texture\n",
    "\n",
    "        block_scheme[i*2][j*2+1] = vert_bar_texture\n",
    "\n",
    "    i, j = 9, 9\n",
    "    if field[i, j] == 'X':\n",
    "        block_scheme[i*2][j*2] = X_texture\n",
    "\n",
    "    elif field[i, j] == 'O':\n",
    "        block_scheme[i*2][j*2] = O_texture\n",
    "\n",
    "    elif field[i, j] == '_':\n",
    "        block_scheme[i*2][j*2] = empty_slot_texture\n",
    "\n",
    "\n",
    "    final_texture = np.block(block_scheme)\n",
    "    final_texture = np.kron(final_texture, np.ones((s_f, s_f)))\n",
    "    \n",
    "    final_texture[final_texture == 1] = 150\n",
    "    final_texture = np.repeat(final_texture, 3)\n",
    "    final_texture = final_texture.astype('int')\n",
    "    return final_texture"
   ]
  },
  {
   "cell_type": "code",
   "execution_count": 3,
   "id": "c531905a-a4be-4657-b847-f7feff80c174",
   "metadata": {},
   "outputs": [
    {
     "ename": "TypeError",
     "evalue": "callback_turn() missing 1 required positional argument: 'instance'",
     "output_type": "error",
     "traceback": [
      "\u001b[1;31m---------------------------------------------------------------------------\u001b[0m",
      "\u001b[1;31mTypeError\u001b[0m                                 Traceback (most recent call last)",
      "Input \u001b[1;32mIn [3]\u001b[0m, in \u001b[0;36m<module>\u001b[1;34m\u001b[0m\n\u001b[0;32m     28\u001b[0m reset()\n\u001b[0;32m     29\u001b[0m xo_app \u001b[38;5;241m=\u001b[39m XO_App()\n\u001b[1;32m---> 30\u001b[0m \u001b[43mxo_app\u001b[49m\u001b[38;5;241;43m.\u001b[39;49m\u001b[43mrun\u001b[49m\u001b[43m(\u001b[49m\u001b[43m)\u001b[49m\n",
      "File \u001b[1;32mD:\\Anaconda\\envs\\kivyenv\\lib\\site-packages\\kivy\\app.py:949\u001b[0m, in \u001b[0;36mApp.run\u001b[1;34m(self)\u001b[0m\n\u001b[0;32m    946\u001b[0m \u001b[38;5;28;01mdef\u001b[39;00m \u001b[38;5;21mrun\u001b[39m(\u001b[38;5;28mself\u001b[39m):\n\u001b[0;32m    947\u001b[0m     \u001b[38;5;124;03m'''Launches the app in standalone mode.\u001b[39;00m\n\u001b[0;32m    948\u001b[0m \u001b[38;5;124;03m    '''\u001b[39;00m\n\u001b[1;32m--> 949\u001b[0m     \u001b[38;5;28;43mself\u001b[39;49m\u001b[38;5;241;43m.\u001b[39;49m\u001b[43m_run_prepare\u001b[49m\u001b[43m(\u001b[49m\u001b[43m)\u001b[49m\n\u001b[0;32m    950\u001b[0m     runTouchApp()\n\u001b[0;32m    951\u001b[0m     \u001b[38;5;28mself\u001b[39m\u001b[38;5;241m.\u001b[39mstop()\n",
      "File \u001b[1;32mD:\\Anaconda\\envs\\kivyenv\\lib\\site-packages\\kivy\\app.py:919\u001b[0m, in \u001b[0;36mApp._run_prepare\u001b[1;34m(self)\u001b[0m\n\u001b[0;32m    917\u001b[0m \u001b[38;5;28mself\u001b[39m\u001b[38;5;241m.\u001b[39mload_config()\n\u001b[0;32m    918\u001b[0m \u001b[38;5;28mself\u001b[39m\u001b[38;5;241m.\u001b[39mload_kv(filename\u001b[38;5;241m=\u001b[39m\u001b[38;5;28mself\u001b[39m\u001b[38;5;241m.\u001b[39mkv_file)\n\u001b[1;32m--> 919\u001b[0m root \u001b[38;5;241m=\u001b[39m \u001b[38;5;28;43mself\u001b[39;49m\u001b[38;5;241;43m.\u001b[39;49m\u001b[43mbuild\u001b[49m\u001b[43m(\u001b[49m\u001b[43m)\u001b[49m\n\u001b[0;32m    920\u001b[0m \u001b[38;5;28;01mif\u001b[39;00m root:\n\u001b[0;32m    921\u001b[0m     \u001b[38;5;28mself\u001b[39m\u001b[38;5;241m.\u001b[39mroot \u001b[38;5;241m=\u001b[39m root\n",
      "Input \u001b[1;32mIn [3]\u001b[0m, in \u001b[0;36mXO_App.build\u001b[1;34m(self)\u001b[0m\n\u001b[0;32m      8\u001b[0m screen\u001b[38;5;241m.\u001b[39madd_widget(\u001b[38;5;28mself\u001b[39m\u001b[38;5;241m.\u001b[39mstarting_screen) \n\u001b[0;32m      9\u001b[0m \u001b[38;5;28mself\u001b[39m\u001b[38;5;241m.\u001b[39mscreen_manager\u001b[38;5;241m.\u001b[39madd_widget(screen)\n\u001b[1;32m---> 11\u001b[0m \u001b[38;5;28mself\u001b[39m\u001b[38;5;241m.\u001b[39mfield_screen \u001b[38;5;241m=\u001b[39m \u001b[43mField_Screen\u001b[49m\u001b[43m(\u001b[49m\u001b[43m)\u001b[49m\n\u001b[0;32m     12\u001b[0m screen \u001b[38;5;241m=\u001b[39m Screen(name \u001b[38;5;241m=\u001b[39m \u001b[38;5;124m'\u001b[39m\u001b[38;5;124mField\u001b[39m\u001b[38;5;124m'\u001b[39m)\n\u001b[0;32m     13\u001b[0m screen\u001b[38;5;241m.\u001b[39madd_widget(\u001b[38;5;28mself\u001b[39m\u001b[38;5;241m.\u001b[39mfield_screen) \n",
      "Input \u001b[1;32mIn [1]\u001b[0m, in \u001b[0;36mField_Screen.__init__\u001b[1;34m(self, **kwargs)\u001b[0m\n\u001b[0;32m     33\u001b[0m btn \u001b[38;5;241m=\u001b[39m Button(text\u001b[38;5;241m=\u001b[39m\u001b[38;5;28mstr\u001b[39m(i), background_color \u001b[38;5;241m=\u001b[39m [\u001b[38;5;241m0\u001b[39m, \u001b[38;5;241m0\u001b[39m, \u001b[38;5;241m0\u001b[39m, \u001b[38;5;241m0\u001b[39m])\n\u001b[0;32m     34\u001b[0m \u001b[38;5;28mself\u001b[39m\u001b[38;5;241m.\u001b[39madd_widget(btn)\n\u001b[1;32m---> 35\u001b[0m btn\u001b[38;5;241m.\u001b[39mbind(on_press\u001b[38;5;241m=\u001b[39m\u001b[38;5;28;43mself\u001b[39;49m\u001b[38;5;241;43m.\u001b[39;49m\u001b[43mcallback_turn\u001b[49m\u001b[43m(\u001b[49m\u001b[43mvalue\u001b[49m\u001b[43m \u001b[49m\u001b[38;5;241;43m=\u001b[39;49m\u001b[43m \u001b[49m\u001b[43mi\u001b[49m\u001b[43m)\u001b[49m)\n",
      "\u001b[1;31mTypeError\u001b[0m: callback_turn() missing 1 required positional argument: 'instance'"
     ]
    }
   ],
   "source": [
    "class XO_App(App):\n",
    "    \n",
    "    def build(self):\n",
    "        self.screen_manager = ScreenManager()\n",
    "        \n",
    "        self.starting_screen = Starting_Screen()\n",
    "        screen = Screen(name = 'Starting')\n",
    "        screen.add_widget(self.starting_screen) \n",
    "        self.screen_manager.add_widget(screen)\n",
    "        \n",
    "        self.field_screen = Field_Screen()\n",
    "        screen = Screen(name = 'Field')\n",
    "        screen.add_widget(self.field_screen) \n",
    "        self.screen_manager.add_widget(screen)\n",
    "        \n",
    "        return self.screen_manager\n",
    "    \n",
    "def reset():\n",
    "    import kivy.core.window as window\n",
    "    from kivy.base import EventLoop\n",
    "    if not EventLoop.event_listeners:\n",
    "        from kivy.cache import Cache\n",
    "        window.Window = window.core_select_lib('window', window.window_impl, True)\n",
    "        for cat in Cache._categories:\n",
    "            Cache._objects[cat] = {}\n",
    "\n",
    "\n",
    "reset()\n",
    "xo_app = XO_App()\n",
    "xo_app.run()"
   ]
  },
  {
   "cell_type": "code",
   "execution_count": null,
   "id": "bfe07e36-1480-43d8-a6d3-0820565fcf98",
   "metadata": {},
   "outputs": [],
   "source": []
  },
  {
   "cell_type": "code",
   "execution_count": null,
   "id": "3b887d3c-7f28-4922-a552-0a95ead3821a",
   "metadata": {},
   "outputs": [],
   "source": []
  },
  {
   "cell_type": "code",
   "execution_count": null,
   "id": "4d212ce3-800c-4832-8e4e-df5b97a4206c",
   "metadata": {},
   "outputs": [],
   "source": []
  },
  {
   "cell_type": "code",
   "execution_count": null,
   "id": "7cf4178f-a407-41c4-94b4-5ebc5ae38835",
   "metadata": {},
   "outputs": [],
   "source": []
  },
  {
   "cell_type": "code",
   "execution_count": null,
   "id": "44485c52-efa9-4564-be92-54d5b8ec709a",
   "metadata": {},
   "outputs": [],
   "source": []
  },
  {
   "cell_type": "code",
   "execution_count": null,
   "id": "36b27110-61dd-4f6e-b672-355aa0d948d6",
   "metadata": {},
   "outputs": [],
   "source": [
    "from kivy.app import App\n",
    "from kivy.uix.label import Label\n",
    "\n",
    "class MousePos(App):\n",
    "    def build(self):\n",
    "        from kivy.core.window import Window\n",
    "        self.label = Label()\n",
    "        Window.bind(mouse_pos=lambda w, p: setattr(self.label, 'text', str(p)))\n",
    "        return self.label\n",
    "\n",
    "if __name__ == '__main__':\n",
    "    MousePos().run()"
   ]
  },
  {
   "cell_type": "code",
   "execution_count": null,
   "id": "7fcfb02c-e237-41e0-b676-ff747c8b7ab9",
   "metadata": {},
   "outputs": [],
   "source": []
  },
  {
   "cell_type": "code",
   "execution_count": null,
   "id": "82e95f28-33f6-41af-a39c-8e116d9e40e6",
   "metadata": {},
   "outputs": [],
   "source": []
  },
  {
   "cell_type": "code",
   "execution_count": null,
   "id": "a2cf5b58-e9a2-47ae-ac79-2df915047f8f",
   "metadata": {},
   "outputs": [],
   "source": []
  },
  {
   "cell_type": "code",
   "execution_count": 8,
   "id": "ca1be7f0-9951-4e18-a551-1ea789e07035",
   "metadata": {},
   "outputs": [],
   "source": []
  },
  {
   "cell_type": "code",
   "execution_count": 16,
   "id": "9703ea74-0b67-44ab-a488-8bc290f3da31",
   "metadata": {},
   "outputs": [],
   "source": [
    "import numpy as np\n",
    "curr_field = np.ones((10, 10), dtype = str) #starting with empty field\n",
    "curr_field.fill('_')\n",
    "player_side = 'X'"
   ]
  },
  {
   "cell_type": "code",
   "execution_count": 49,
   "id": "de5bd47f-c387-4986-8106-fe113efea9cd",
   "metadata": {},
   "outputs": [
    {
     "name": "stdout",
     "output_type": "stream",
     "text": [
      "Выберите сторону (X или O)\n"
     ]
    },
    {
     "name": "stdin",
     "output_type": "stream",
     "text": [
      " Х\n"
     ]
    },
    {
     "name": "stdout",
     "output_type": "stream",
     "text": [
      "Ведите ячейку для хода (по горизонтали и вертикали)\n"
     ]
    },
    {
     "name": "stdin",
     "output_type": "stream",
     "text": [
      " 3\n",
      " 3\n"
     ]
    }
   ],
   "source": [
    "print(u'Выберите сторону (X или O)')\n",
    "side = input()\n",
    "side = str(side)\n",
    "if side == u'о' or side == u'О' or side == '0' or side == 'o' or side == 'O':\n",
    "    side = 'O'\n",
    "if side == u'х' or side == u'Х' or side == '*' or side == 'x' or side == 'X':\n",
    "    side = 'X'\n",
    "player_side = side\n",
    "\n",
    "print(u'Ведите ячейку для хода (по горизонтали и вертикали)')\n",
    "h = input()\n",
    "v = input()"
   ]
  },
  {
   "cell_type": "code",
   "execution_count": 50,
   "id": "2e8627ee-3624-4801-96a8-1bd4742fd01d",
   "metadata": {},
   "outputs": [
    {
     "data": {
      "text/plain": [
       "'X'"
      ]
     },
     "execution_count": 50,
     "metadata": {},
     "output_type": "execute_result"
    }
   ],
   "source": [
    "side"
   ]
  },
  {
   "cell_type": "code",
   "execution_count": 64,
   "id": "f21508f3-b75c-4b52-a23a-4c80fb57a9a4",
   "metadata": {},
   "outputs": [],
   "source": [
    "def print_field():\n",
    "    col_sep = u'|'\n",
    "    row_sep = u'―'\n",
    "    for i in range(10):\n",
    "        for j in range(10):\n",
    "            if j == 9:\n",
    "                col_sep = ''\n",
    "            else:\n",
    "                col_sep = '|'\n",
    "                    \n",
    "            print(f' {curr_field[i,j]} {col_sep}', sep = '', end = '')\n",
    "            \n",
    "        print('\\n', sep = '', end = '')\n",
    "        if i != 9:\n",
    "            for j in range(10):\n",
    "                if j == 9:\n",
    "                    cross = ''\n",
    "                else:\n",
    "                    cross = '+'\n",
    "                print(f'{row_sep}{row_sep}{row_sep}{cross}',  sep = '', end = '')\n",
    "            print('\\n', sep = '', end = '')\n",
    "        \n",
    "        \n",
    "        "
   ]
  },
  {
   "cell_type": "code",
   "execution_count": 65,
   "id": "76a6d681-95dd-45b7-b1bc-cb45f5b8846a",
   "metadata": {},
   "outputs": [
    {
     "name": "stdout",
     "output_type": "stream",
     "text": [
      " _ | _ | _ | _ | _ | _ | _ | _ | _ | _ \n",
      "―――+―――+―――+―――+―――+―――+―――+―――+―――+―――\n",
      " _ | _ | _ | _ | _ | _ | _ | _ | _ | _ \n",
      "―――+―――+―――+―――+―――+―――+―――+―――+―――+―――\n",
      " _ | _ | _ | _ | _ | _ | _ | _ | _ | _ \n",
      "―――+―――+―――+―――+―――+―――+―――+―――+―――+―――\n",
      " _ | _ | _ | _ | _ | _ | _ | _ | _ | _ \n",
      "―――+―――+―――+―――+―――+―――+―――+―――+―――+―――\n",
      " _ | _ | _ | _ | _ | _ | _ | _ | _ | _ \n",
      "―――+―――+―――+―――+―――+―――+―――+―――+―――+―――\n",
      " _ | _ | _ | _ | _ | _ | _ | _ | _ | _ \n",
      "―――+―――+―――+―――+―――+―――+―――+―――+―――+―――\n",
      " _ | _ | _ | _ | _ | _ | _ | _ | _ | _ \n",
      "―――+―――+―――+―――+―――+―――+―――+―――+―――+―――\n",
      " _ | _ | _ | _ | _ | _ | _ | _ | _ | _ \n",
      "―――+―――+―――+―――+―――+―――+―――+―――+―――+―――\n",
      " _ | _ | _ | _ | _ | _ | _ | _ | _ | _ \n",
      "―――+―――+―――+―――+―――+―――+―――+―――+―――+―――\n",
      " _ | _ | _ | _ | _ | _ | _ | _ | _ | _ \n"
     ]
    }
   ],
   "source": [
    "print_field()"
   ]
  },
  {
   "cell_type": "code",
   "execution_count": null,
   "id": "832c7903-6131-40b1-a713-2291ab81b4a4",
   "metadata": {},
   "outputs": [],
   "source": [
    "def endgame(side):\n",
    "    print(f'{side}', u'побеждают')\n",
    "    \n",
    "def player_turn():\n",
    "    print(u'Ведите ячейку для хода (по горизонтали и вертикали от 1 до 10)')\n",
    "    h = input()\n",
    "    h =- 1\n",
    "    v = input()\n",
    "    v =- 1\n",
    "    curr_field[h, v] = player_side\n",
    "    if lose_check(h, v, player_side):\n",
    "        return endgame(lose_check())"
   ]
  },
  {
   "cell_type": "code",
   "execution_count": null,
   "id": "62252ece-62be-4c1c-b109-a2dfad3b74ba",
   "metadata": {},
   "outputs": [],
   "source": [
    "def lose_check(h = 0, v = 0, side = 'X'):\n",
    "    np.where(curr_field == '_', curr_field)\n",
    "    \n",
    "    "
   ]
  },
  {
   "cell_type": "code",
   "execution_count": 74,
   "id": "9a9ecf53-2ab5-4e05-9aab-f9972f5af209",
   "metadata": {},
   "outputs": [
    {
     "data": {
      "text/plain": [
       "array([2, 3], dtype=int64)"
      ]
     },
     "execution_count": 74,
     "metadata": {},
     "output_type": "execute_result"
    }
   ],
   "source": [
    "curr_field[1,2] = 'X'\n",
    "curr_field[1,3] = 'X'\n",
    "x, y = np.where(curr_field == 'X')\n",
    "x = np.array(x)\n",
    "y"
   ]
  },
  {
   "cell_type": "code",
   "execution_count": null,
   "id": "2b2ddc07-9da4-4a2b-8612-e1787df688e7",
   "metadata": {},
   "outputs": [],
   "source": []
  },
  {
   "cell_type": "code",
   "execution_count": null,
   "id": "164125f5-5d13-4b26-8a5f-7af386a8ab7c",
   "metadata": {},
   "outputs": [],
   "source": []
  }
 ],
 "metadata": {
  "kernelspec": {
   "display_name": "Python 3 (ipykernel)",
   "language": "python",
   "name": "python3"
  },
  "language_info": {
   "codemirror_mode": {
    "name": "ipython",
    "version": 3
   },
   "file_extension": ".py",
   "mimetype": "text/x-python",
   "name": "python",
   "nbconvert_exporter": "python",
   "pygments_lexer": "ipython3",
   "version": "3.9.10"
  }
 },
 "nbformat": 4,
 "nbformat_minor": 5
}
