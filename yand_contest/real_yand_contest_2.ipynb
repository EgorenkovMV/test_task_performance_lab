{
 "cells": [
  {
   "cell_type": "code",
   "execution_count": 27,
   "id": "54c6e380-eeec-46e8-840e-41e44d0e9a2b",
   "metadata": {},
   "outputs": [
    {
     "name": "stdin",
     "output_type": "stream",
     "text": [
      " 5 7\n",
      " .._.... ./A\\_.. .\\_/B\\. ...\\_/. .......\n"
     ]
    },
    {
     "name": "stdout",
     "output_type": "stream",
     "text": [
      "[5, 7]\n"
     ]
    }
   ],
   "source": [
    "coords_str = input()\n",
    "field_str = input()\n",
    "coords = coords_str.split()\n",
    "coords = [int(coords[0]), int(coords[1])]\n",
    "print(coords)\n"
   ]
  },
  {
   "cell_type": "code",
   "execution_count": null,
   "id": "a22284c1-95be-4d23-abeb-2963db1a8e51",
   "metadata": {},
   "outputs": [],
   "source": [
    ".._....\n",
    "./A\\_..\n",
    ".\\_/B\\.\n",
    "...\\_/.\n",
    "......."
   ]
  },
  {
   "cell_type": "code",
   "execution_count": 28,
   "id": "2fc39eb2-9f4b-4927-8866-e167e69cab13",
   "metadata": {},
   "outputs": [
    {
     "name": "stdout",
     "output_type": "stream",
     "text": [
      ".\\_/B\\.\n"
     ]
    }
   ],
   "source": [
    "field = field_str.split()\n",
    "print(field[2])"
   ]
  },
  {
   "cell_type": "code",
   "execution_count": 51,
   "id": "73dc453b-bfb5-42e7-a476-c771238b377a",
   "metadata": {},
   "outputs": [
    {
     "name": "stdout",
     "output_type": "stream",
     "text": [
      "[[1, 2, 'A'], [2, 4, 'B']]\n"
     ]
    }
   ],
   "source": [
    "import re\n",
    "let_pos = []\n",
    "\n",
    "for line in range(len(field)):\n",
    "    letters = re.findall(r'[A-Z]', field[line])\n",
    "    for letter in letters:\n",
    "        pos = field[line].find(letter)\n",
    "        let_pos.append([line, pos, letter])\n",
    "print(let_pos)"
   ]
  },
  {
   "cell_type": "code",
   "execution_count": 52,
   "id": "a472f23c-578a-4036-9d5c-4b46866f114c",
   "metadata": {},
   "outputs": [
    {
     "name": "stdout",
     "output_type": "stream",
     "text": [
      "[[3, 4, 'A'], [2, 2, 'B']]\n"
     ]
    }
   ],
   "source": [
    "h, w = coords[0], coords[1]\n",
    "\n",
    "for p in range(len(let_pos)):\n",
    "    let_pos[p][0] = h - let_pos[p][0] - 1\n",
    "    let_pos[p][1] = w - let_pos[p][1] - 1\n",
    "print (let_pos)"
   ]
  },
  {
   "cell_type": "code",
   "execution_count": 100,
   "id": "5b973785-8f08-494b-9b33-59f08ad1605c",
   "metadata": {},
   "outputs": [
    {
     "data": {
      "text/plain": [
       "[[0, 0, 0, 0, 0, 0, 0],\n",
       " [0, 0, 0, 0, 0, 0, 0],\n",
       " [0, 0, 0, 0, 0, 0, 0],\n",
       " [0, 0, 0, 0, 0, 0, 0],\n",
       " [0, 0, 0, 0, 0, 0, 0]]"
      ]
     },
     "execution_count": 100,
     "metadata": {},
     "output_type": "execute_result"
    }
   ],
   "source": [
    "rev_field = [[0 for x in range(w)] for y in range(h)] \n",
    "rev_field\n"
   ]
  },
  {
   "cell_type": "code",
   "execution_count": 101,
   "id": "4aafa5fa-c643-477f-a2d7-ef6025f7d77e",
   "metadata": {},
   "outputs": [
    {
     "data": {
      "text/plain": [
       "[[0, 0, 0, 0, 0, 0, 0],\n",
       " [0, 0, 0, 0, 0, 0, 0],\n",
       " [0, 0, 'B', 0, 0, 0, 0],\n",
       " [0, 0, 0, 0, 'A', 0, 0],\n",
       " [0, 0, 0, 0, 0, 0, 0]]"
      ]
     },
     "execution_count": 101,
     "metadata": {},
     "output_type": "execute_result"
    }
   ],
   "source": [
    "for p in range(len(let_pos)):\n",
    "    rev_field[let_pos[p][0]][let_pos[p][1]] = let_pos[p][2]\n",
    "rev_field"
   ]
  },
  {
   "cell_type": "code",
   "execution_count": 102,
   "id": "b6148f00-da88-411b-9f48-e026b05fa81d",
   "metadata": {},
   "outputs": [
    {
     "data": {
      "text/plain": [
       "['.......', '.._....', './B\\\\_..', '.\\\\_/A\\\\.', '...\\\\_/.']"
      ]
     },
     "execution_count": 102,
     "metadata": {},
     "output_type": "execute_result"
    }
   ],
   "source": [
    "for y in range(w):\n",
    "    for x in range(h):\n",
    "        if re.match(r'[A-Z]', str(rev_field[x][y])):\n",
    "\n",
    "            rev_field[x+1][y] = '_'\n",
    "            rev_field[x-1][y] = '_'\n",
    "            rev_field[x][y+1] = '\\\\'\n",
    "            rev_field[x][y-1] = '/'\n",
    "            rev_field[x+1][y-1] = '\\\\'\n",
    "            rev_field[x+1][y+1] = '/'\n",
    "    \n",
    "for y in range(w):\n",
    "    for x in range(h):\n",
    "        if rev_field[x][y] == 0:\n",
    "            rev_field[x][y] = '.'\n",
    "\n",
    "for x in range(h):\n",
    "    rev_field[x] = \"\".join(rev_field[x])\n",
    "rev_field"
   ]
  },
  {
   "cell_type": "code",
   "execution_count": null,
   "id": "b04e9707-b1be-4233-9138-0e9957caff28",
   "metadata": {},
   "outputs": [],
   "source": []
  },
  {
   "cell_type": "code",
   "execution_count": null,
   "id": "507f6664-7884-44c7-b766-510207459a9b",
   "metadata": {},
   "outputs": [],
   "source": []
  },
  {
   "cell_type": "code",
   "execution_count": 122,
   "id": "aa9421b2-073f-4c8a-81a7-a6457fdfcf8e",
   "metadata": {},
   "outputs": [
    {
     "name": "stdin",
     "output_type": "stream",
     "text": [
      " 8 13 ............. ...._........ .._/A\\_..._.. ./B\\_/D\\_/F\\. .\\_/C\\_/E\\_/. ...\\_/G\\_/... .....\\_/..... .............\n"
     ]
    },
    {
     "data": {
      "text/plain": [
       "'.............\\n......_......\\n...._/G\\\\_....\\n.._/E\\\\_/C\\\\_..\\n./F\\\\_/D\\\\_/B\\\\.\\n.\\\\_/.\\\\_/A\\\\_/.\\n.......\\\\_/...\\n.............'"
      ]
     },
     "execution_count": 122,
     "metadata": {},
     "output_type": "execute_result"
    }
   ],
   "source": [
    "#input_str = input()\n",
    "with open('input.txt') as f:\n",
    "    input_str = f.read()\n",
    "input_str = input_str.split()\n",
    "coords = [int(input_str[0]), int(input_str[1])]\n",
    "input_str.pop(0)\n",
    "input_str.pop(0)\n",
    "field = input_str\n",
    "\n",
    "import re\n",
    "let_pos = []\n",
    "\n",
    "for line in range(len(field)):\n",
    "    letters = re.findall(r'[A-Z]', field[line])\n",
    "    for letter in letters:\n",
    "        pos = field[line].find(letter)\n",
    "        let_pos.append([line, pos, letter])\n",
    "        \n",
    "h, w = coords[0], coords[1]\n",
    "\n",
    "for p in range(len(let_pos)):\n",
    "    let_pos[p][0] = h - let_pos[p][0] - 1\n",
    "    let_pos[p][1] = w - let_pos[p][1] - 1\n",
    "\n",
    "rev_field = [[0 for x in range(w)] for y in range(h)] \n",
    "\n",
    "for p in range(len(let_pos)):\n",
    "    rev_field[let_pos[p][0]][let_pos[p][1]] = let_pos[p][2]\n",
    "\n",
    "    \n",
    "for y in range(w):\n",
    "    for x in range(h):\n",
    "        if re.match(r'[A-Z]', str(rev_field[x][y])):\n",
    "\n",
    "            rev_field[x+1][y] = '_'\n",
    "            rev_field[x-1][y] = '_'\n",
    "            rev_field[x][y+1] = '\\\\'\n",
    "            rev_field[x][y-1] = '/'\n",
    "            rev_field[x+1][y-1] = '\\\\'\n",
    "            rev_field[x+1][y+1] = '/'\n",
    "    \n",
    "for y in range(w):\n",
    "    for x in range(h):\n",
    "        if rev_field[x][y] == 0:\n",
    "            rev_field[x][y] = '.'\n",
    "\n",
    "for x in range(h):\n",
    "    rev_field[x] = \"\".join(rev_field[x])\n",
    "\n",
    "rev_field_str = \"\\n\".join(rev_field)\n",
    "print(rev_field_str)"
   ]
  },
  {
   "cell_type": "code",
   "execution_count": 124,
   "id": "183efb6d-a4c9-4aaf-9a8c-5bc76dcbb92c",
   "metadata": {},
   "outputs": [
    {
     "name": "stdout",
     "output_type": "stream",
     "text": [
      ".............\n",
      "......_......\n",
      "...._/G\\_....\n",
      ".._/E\\_/C\\_..\n",
      "./F\\_/D\\_/B\\.\n",
      ".\\_/.\\_/A\\_/.\n",
      ".......\\_/...\n",
      ".............\n"
     ]
    }
   ],
   "source": [
    "print(rev_field_str)"
   ]
  },
  {
   "cell_type": "code",
   "execution_count": null,
   "id": "be6ace01-08b3-4b92-ab91-9dc98d5ef4dd",
   "metadata": {},
   "outputs": [],
   "source": []
  }
 ],
 "metadata": {
  "kernelspec": {
   "display_name": "Python 3",
   "language": "python",
   "name": "python3"
  },
  "language_info": {
   "codemirror_mode": {
    "name": "ipython",
    "version": 3
   },
   "file_extension": ".py",
   "mimetype": "text/x-python",
   "name": "python",
   "nbconvert_exporter": "python",
   "pygments_lexer": "ipython3",
   "version": "3.8.8"
  }
 },
 "nbformat": 4,
 "nbformat_minor": 5
}
