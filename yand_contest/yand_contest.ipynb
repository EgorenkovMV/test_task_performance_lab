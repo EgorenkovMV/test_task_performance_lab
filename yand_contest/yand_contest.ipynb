{
 "cells": [
  {
   "cell_type": "code",
   "execution_count": 11,
   "id": "54c6e380-eeec-46e8-840e-41e44d0e9a2b",
   "metadata": {},
   "outputs": [
    {
     "name": "stdin",
     "output_type": "stream",
     "text": [
      " 1 2\n"
     ]
    },
    {
     "name": "stdout",
     "output_type": "stream",
     "text": [
      "3\n"
     ]
    }
   ],
   "source": [
    "txt = input()\n",
    "x = txt.split()\n",
    "print(int(x[0]) + int(x[1]))"
   ]
  },
  {
   "cell_type": "code",
   "execution_count": 10,
   "id": "4e9482df-1dde-4d55-8806-a825ea9b56c7",
   "metadata": {},
   "outputs": [],
   "source": [
    "with open('input.txt') as f:\n",
    "    txt = f.read()\n",
    "x = txt.split()\n",
    "sum_x = int(x[0]) + int(x[1])\n",
    "with open('output.txt', 'w') as f:\n",
    "    f.write(str(sum_x))"
   ]
  },
  {
   "cell_type": "code",
   "execution_count": 14,
   "id": "6de592cb-b55c-43f3-b42b-3a909ea1be5e",
   "metadata": {},
   "outputs": [
    {
     "name": "stdin",
     "output_type": "stream",
     "text": [
      " qweqwe\n",
      " qwertyu\n"
     ]
    },
    {
     "name": "stdout",
     "output_type": "stream",
     "text": [
      "3\n"
     ]
    }
   ],
   "source": [
    "j = input()\n",
    "s = input()\n",
    " \n",
    "result = 0\n",
    "for ch in s:\n",
    "    if ch in j:\n",
    "        result += 1\n",
    "\n",
    "print(result)"
   ]
  },
  {
   "cell_type": "code",
   "execution_count": null,
   "id": "a22284c1-95be-4d23-abeb-2963db1a8e51",
   "metadata": {},
   "outputs": [],
   "source": []
  }
 ],
 "metadata": {
  "kernelspec": {
   "display_name": "Python 3",
   "language": "python",
   "name": "python3"
  },
  "language_info": {
   "codemirror_mode": {
    "name": "ipython",
    "version": 3
   },
   "file_extension": ".py",
   "mimetype": "text/x-python",
   "name": "python",
   "nbconvert_exporter": "python",
   "pygments_lexer": "ipython3",
   "version": "3.8.8"
  }
 },
 "nbformat": 4,
 "nbformat_minor": 5
}
