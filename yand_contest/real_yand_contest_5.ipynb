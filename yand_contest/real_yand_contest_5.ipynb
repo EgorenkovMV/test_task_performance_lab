{
 "cells": [
  {
   "cell_type": "code",
   "execution_count": 3,
   "id": "e12f0b13-0394-4676-9959-7145904f4958",
   "metadata": {},
   "outputs": [
    {
     "name": "stdin",
     "output_type": "stream",
     "text": [
      " 6 -2 -4 2 2 -2 -4 0 -1 -2 -1 0 2 0 -4 2 -1 0 -1 2 2 -1 -2 1 0\n"
     ]
    }
   ],
   "source": [
    "# with open('input.txt') as f:\n",
    "#     input_str = f.read()\n",
    "input_str = input()\n",
    "\n",
    "input_str = input_str.split()\n",
    "length = int(input_str[0])\n",
    "input_str.pop(0)\n",
    "data = input_str\n"
   ]
  },
  {
   "cell_type": "code",
   "execution_count": null,
   "id": "46156d84-0084-4fe9-b17c-bf30bf5c93c7",
   "metadata": {},
   "outputs": [],
   "source": [
    "def if_intersect(t_i, t_j):\n",
    "    if (t_i[0] < t_j[2]) and (t_i[1] < t_j[3]): \n",
    "        # если правый верхний угол второго оказывается\n",
    "        #в первом квадранте от левого нижнего первого, то проверяем, находится ли \n",
    "        #левый нижний второй в третьем квадранте от правого верхнего первого\n",
    "        if (t_i[2] > t_j[0]) and (t_i[3] > t_j[1]):\n",
    "            return True\n",
    "    return False"
   ]
  },
  {
   "cell_type": "code",
   "execution_count": 19,
   "id": "fe902f91-ca54-4d14-b6c4-4b58b1d83731",
   "metadata": {},
   "outputs": [
    {
     "name": "stdout",
     "output_type": "stream",
     "text": [
      "[5, 2, 2, 2, 2, 5]\n"
     ]
    }
   ],
   "source": [
    "out_list = [0] * length\n",
    "for i in range(0, len(data), 4):\n",
    "    tuple_i = int(data[i]), int(data[i+1]), int(data[i+2]), int(data[i+3])\n",
    "    for j in range(i+4, len(data), 4):\n",
    "        tuple_j = int(data[j]), int(data[j+1]), int(data[j+2]), int(data[j+3])\n",
    "\n",
    "        if if_intersect(tuple_i, tuple_j):\n",
    "            out_list[i//4] += 1\n",
    "            out_list[j//4] += 1\n",
    "\n",
    "        \n",
    "print(out_list)"
   ]
  },
  {
   "cell_type": "code",
   "execution_count": null,
   "id": "fc2fcbe6-9cb2-4ffa-9e0d-578d83c4ca06",
   "metadata": {},
   "outputs": [],
   "source": []
  },
  {
   "cell_type": "code",
   "execution_count": null,
   "id": "dcd25f7f-8117-41da-9a70-e73defdfc0f1",
   "metadata": {},
   "outputs": [],
   "source": []
  },
  {
   "cell_type": "code",
   "execution_count": null,
   "id": "c75d103c-f248-4a33-bd85-9cefdc39c000",
   "metadata": {},
   "outputs": [],
   "source": []
  },
  {
   "cell_type": "code",
   "execution_count": null,
   "id": "41f47f90-2e32-453c-a4a2-423ec47a1225",
   "metadata": {},
   "outputs": [],
   "source": []
  },
  {
   "cell_type": "code",
   "execution_count": null,
   "id": "37ea36c6-5d48-4f17-a87a-f350b7bd447b",
   "metadata": {},
   "outputs": [],
   "source": []
  }
 ],
 "metadata": {
  "kernelspec": {
   "display_name": "Python 3",
   "language": "python",
   "name": "python3"
  },
  "language_info": {
   "codemirror_mode": {
    "name": "ipython",
    "version": 3
   },
   "file_extension": ".py",
   "mimetype": "text/x-python",
   "name": "python",
   "nbconvert_exporter": "python",
   "pygments_lexer": "ipython3",
   "version": "3.8.8"
  }
 },
 "nbformat": 4,
 "nbformat_minor": 5
}
