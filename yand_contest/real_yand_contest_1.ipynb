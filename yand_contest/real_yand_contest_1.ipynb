{
 "cells": [
  {
   "cell_type": "code",
   "execution_count": 21,
   "id": "e524fe4b-fdcb-407d-b96b-5b21fa383247",
   "metadata": {},
   "outputs": [
    {
     "name": "stdin",
     "output_type": "stream",
     "text": [
      " 12 4 132 148 262292 262164 262420 393492 393476 67502340 67502336 67502337 68026625\n"
     ]
    },
    {
     "name": "stdout",
     "output_type": "stream",
     "text": [
      "cheshire cat\n"
     ]
    }
   ],
   "source": [
    "# with open('input.txt') as f:\n",
    "#     input_str = f.read()\n",
    "input_str = input()\n",
    "\n",
    "input_str = input_str.split()\n",
    "length = int(input_str[0])\n",
    "input_str.pop(0)\n",
    "decim = input_str\n",
    "\n",
    "import string\n",
    "alphabet = string.ascii_lowercase + ' ' \n",
    "\n",
    "prev = 0\n",
    "out_str = ''\n",
    "import math \n",
    "\n",
    "for i in range(len(decim)):\n",
    "    decim_step = abs(int(decim[i]) - prev)\n",
    "    letter_no = int(math.log(decim_step, 2))\n",
    "    prev = int(decim[i])\n",
    "    out_str = out_str + alphabet[letter_no]\n",
    "    \n",
    "print(out_str)"
   ]
  },
  {
   "cell_type": "code",
   "execution_count": null,
   "id": "bab39c5f-0bc0-40bb-a7d5-66dffcca72ef",
   "metadata": {},
   "outputs": [],
   "source": []
  }
 ],
 "metadata": {
  "kernelspec": {
   "display_name": "Python 3",
   "language": "python",
   "name": "python3"
  },
  "language_info": {
   "codemirror_mode": {
    "name": "ipython",
    "version": 3
   },
   "file_extension": ".py",
   "mimetype": "text/x-python",
   "name": "python",
   "nbconvert_exporter": "python",
   "pygments_lexer": "ipython3",
   "version": "3.8.8"
  }
 },
 "nbformat": 4,
 "nbformat_minor": 5
}
