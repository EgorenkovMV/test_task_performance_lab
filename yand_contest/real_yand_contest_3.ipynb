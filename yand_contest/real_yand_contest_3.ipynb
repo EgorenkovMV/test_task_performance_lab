{
 "cells": [
  {
   "cell_type": "code",
   "execution_count": 19,
   "id": "e524fe4b-fdcb-407d-b96b-5b21fa383247",
   "metadata": {},
   "outputs": [
    {
     "name": "stdout",
     "output_type": "stream",
     "text": [
      "5\n"
     ]
    }
   ],
   "source": [
    "with open('input.txt') as f:\n",
    "    input_str = f.read()\n",
    "#input_str = input()\n",
    "\n",
    "input_str = input_str.split()\n",
    "length = int(input_str[0])\n",
    "input_str.pop(0)\n",
    "data = input_str\n",
    "\n",
    "\n",
    "import math\n",
    "\n",
    "\n",
    "def gcd(n1, n2):\n",
    "    if (n2 == 0):\n",
    "        return n1\n",
    "    return gcd(n2, n1 % n2);\n",
    "\n",
    "\n",
    "def maxPrimeFactors (n):\n",
    "    maxPrime = -1\n",
    "    if n == 1:\n",
    "        return 1\n",
    "\n",
    "    while n % 2 == 0:\n",
    "        maxPrime = 2\n",
    "        n = n / 2   \n",
    "\n",
    "    for i in range(3, int(math.sqrt(n)) + 1, 2):\n",
    "        while n % i == 0:\n",
    "            maxPrime = i\n",
    "            n = n / i\n",
    "    if n > 2:\n",
    "        maxPrime = n\n",
    "        \n",
    "    return int(maxPrime)\n",
    "\n",
    "\n",
    "for i in range(0, len(data), 2):\n",
    "    a = int(data[i])\n",
    "    b = int(data[i+1])\n",
    "    a1 = a // gcd(a, b)\n",
    "    b1 = b // gcd(a, b)\n",
    "    max_a = maxPrimeFactors(a1)\n",
    "    max_b = maxPrimeFactors(b1)\n",
    "    if max_a > max_b:\n",
    "        print(gcd(a, b * max_a))\n",
    "    else:\n",
    "        print(gcd(a * max_b, b))\n"
   ]
  },
  {
   "cell_type": "code",
   "execution_count": null,
   "id": "e12f0b13-0394-4676-9959-7145904f4958",
   "metadata": {},
   "outputs": [],
   "source": []
  }
 ],
 "metadata": {
  "kernelspec": {
   "display_name": "Python 3",
   "language": "python",
   "name": "python3"
  },
  "language_info": {
   "codemirror_mode": {
    "name": "ipython",
    "version": 3
   },
   "file_extension": ".py",
   "mimetype": "text/x-python",
   "name": "python",
   "nbconvert_exporter": "python",
   "pygments_lexer": "ipython3",
   "version": "3.8.8"
  }
 },
 "nbformat": 4,
 "nbformat_minor": 5
}
