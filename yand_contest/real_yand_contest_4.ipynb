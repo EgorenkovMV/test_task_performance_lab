{
 "cells": [
  {
   "cell_type": "code",
   "execution_count": 1,
   "id": "e12f0b13-0394-4676-9959-7145904f4958",
   "metadata": {},
   "outputs": [
    {
     "name": "stdin",
     "output_type": "stream",
     "text": [
      " 7 1010101\n"
     ]
    },
    {
     "name": "stdout",
     "output_type": "stream",
     "text": [
      "-1 -1 1 2 3 4 5 "
     ]
    }
   ],
   "source": [
    "with open('input.txt') as f:\n",
    "    input_str = f.read()\n",
    "#input_str = input()\n",
    "\n",
    "input_str = input_str.split()\n",
    "length = int(input_str[0])\n",
    "input_str.pop(0)\n",
    "data = input_str\n",
    "data1 = list(map(int, list(data[0])))\n",
    "\n",
    "p_sum = [0]\n",
    "out_list = [-1] * length\n",
    "for s in range(length):\n",
    "    p_sum.append(p_sum[s] + data1[s])\n",
    "\n",
    "l0 = 0\n",
    "l1 = 0\n",
    "for r in range(1, length):\n",
    "    if data1[r] == 1:\n",
    "        while l1 < r:\n",
    "            l = l1\n",
    "            ones = p_sum[r+1] - p_sum[l]\n",
    "            dist = r - l + 1\n",
    "            zeros = dist - ones\n",
    "            if ones > zeros:\n",
    "                out_list[r] = l + 1\n",
    "                break\n",
    "            l1 = l1 + 1\n",
    "            \n",
    "    else:\n",
    "        while l0 < r:\n",
    "            l = l0\n",
    "            ones = p_sum[r+1] - p_sum[l]\n",
    "            dist = r - l + 1\n",
    "            zeros = dist - ones\n",
    "            if ones < zeros:\n",
    "                out_list[r] = l + 1\n",
    "                break\n",
    "            l0 = l0 + 1\n",
    "        \n",
    "for c in out_list:\n",
    "    print(c, sep='', end=' ')\n"
   ]
  },
  {
   "cell_type": "code",
   "execution_count": 5,
   "id": "6cda9663-6f04-4969-9a7b-de16f6becf0c",
   "metadata": {},
   "outputs": [
    {
     "data": {
      "text/plain": [
       "'-1-1121'"
      ]
     },
     "execution_count": 5,
     "metadata": {},
     "output_type": "execute_result"
    }
   ],
   "source": [
    "''.join([str(elem) for elem in out_list])"
   ]
  },
  {
   "cell_type": "code",
   "execution_count": 4,
   "id": "fe902f91-ca54-4d14-b6c4-4b58b1d83731",
   "metadata": {},
   "outputs": [
    {
     "data": {
      "text/plain": [
       "[-1, -1, 1, 2, 1]"
      ]
     },
     "execution_count": 4,
     "metadata": {},
     "output_type": "execute_result"
    }
   ],
   "source": [
    "out_list"
   ]
  },
  {
   "cell_type": "code",
   "execution_count": null,
   "id": "abfd54bb-e7aa-4764-9aee-729bb5d0cfb9",
   "metadata": {},
   "outputs": [],
   "source": []
  }
 ],
 "metadata": {
  "kernelspec": {
   "display_name": "Python 3",
   "language": "python",
   "name": "python3"
  },
  "language_info": {
   "codemirror_mode": {
    "name": "ipython",
    "version": 3
   },
   "file_extension": ".py",
   "mimetype": "text/x-python",
   "name": "python",
   "nbconvert_exporter": "python",
   "pygments_lexer": "ipython3",
   "version": "3.8.8"
  }
 },
 "nbformat": 4,
 "nbformat_minor": 5
}
