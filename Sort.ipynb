{
 "cells": [
  {
   "cell_type": "code",
   "execution_count": 1,
   "id": "491cf8c4-e07e-40ad-afcc-bd06917ad76c",
   "metadata": {},
   "outputs": [],
   "source": [
    "import numpy as np\n",
    "import copy\n",
    "import math"
   ]
  },
  {
   "cell_type": "code",
   "execution_count": 5,
   "id": "0ea4b592-002e-40c8-9a63-bfdedc364bff",
   "metadata": {},
   "outputs": [],
   "source": [
    "def generate_array(n, d):\n",
    "    return (np.random.rand(n) * d).astype(int)"
   ]
  },
  {
   "cell_type": "code",
   "execution_count": 6,
   "id": "ca92ed28-69e5-4a21-b0d3-f8231408ede7",
   "metadata": {},
   "outputs": [],
   "source": [
    "def insertion_sort(A):\n",
    "    for i in range(A.size):\n",
    "        for j in np.arange(A.size-i-1)+i+1:\n",
    "            if A[i] > A[j]:\n",
    "                A[i], A[j] = A[j], A[i]\n",
    "    return A"
   ]
  },
  {
   "cell_type": "code",
   "execution_count": 81,
   "id": "b21cec01-b6c9-4e51-a51f-00d96d6c52bb",
   "metadata": {},
   "outputs": [],
   "source": [
    "def merge(A, p, q, r):\n",
    "    n1 = q - p + 1\n",
    "    n2 = r - q\n",
    "    L = list(range(n1+1))\n",
    "    R = list(range(n2+1))\n",
    "    for i in range(n1):\n",
    "        L[i] = A[p+i]\n",
    "    for i in range(n2):\n",
    "        R[i] = A[q+i+1]\n",
    "    L[n1], R[n2] = np.inf, np.inf\n",
    "    i, j = 0, 0\n",
    "    for k in range(p,r+1):\n",
    "        if L[i] <= R[j]:\n",
    "            A[k] = L[i]\n",
    "            i = i + 1\n",
    "        else:\n",
    "            A[k] = R[j]\n",
    "            j = j + 1\n",
    "    return A\n",
    "\n",
    "\n",
    "def merge_sort(A, p = 0, r = A.size - 1):\n",
    "    if p < r:\n",
    "        q = math.floor((r + p)/2)\n",
    "        merge_sort(A, p, q)\n",
    "        merge_sort(A, q+1, r)\n",
    "        merge (A, p, q, r)\n",
    "    return A"
   ]
  },
  {
   "cell_type": "code",
   "execution_count": 63,
   "id": "dff3471a-3269-43cd-98e8-dff8632a9fc0",
   "metadata": {},
   "outputs": [],
   "source": [
    "def parent(i):\n",
    "    return math.floor((i-1)/2)\n",
    "def left(i):\n",
    "    return i * 2 + 1\n",
    "def right(i):\n",
    "    return i * 2 + 2\n",
    "\n",
    "class Heap:\n",
    "    arr = None\n",
    "    def __init__(self, a):\n",
    "        self.arr = np.array(a)\n",
    "        self.len = a.size\n",
    "        self.heapsize = a.size\n",
    "        self.hight = math.floor(math.log(self.heapsize, 2))\n",
    "        \n",
    "        \n",
    "    def max_heapify(self, i):\n",
    "        l = left(i)\n",
    "        r = right(i)\n",
    "        least = i\n",
    "        if l < self.heapsize:\n",
    "            if self.arr[l] > self.arr[i]:\n",
    "                least = l\n",
    "        if r < self.heapsize:\n",
    "            if self.arr[r] > self.arr[least]:\n",
    "                least = r\n",
    "        if least != i:\n",
    "            self.arr[least], self.arr[i] = self.arr[i], self.arr[least]\n",
    "            self.max_heapify(least)\n",
    "            \n",
    "        \n",
    "    def heap_print(self):\n",
    "        self.hight = math.floor(math.log(self.heapsize, 2))\n",
    "        for h in range(0, self.hight+1):\n",
    "            l = []\n",
    "            for i in np.arange(2**h, 2*(2**h))-1:\n",
    "                if i < self.heapsize:\n",
    "                    l.append(self.arr[i])\n",
    "            print (l)\n",
    "            \n",
    "    def build_max_heap(self):\n",
    "        self.heapsize = self.len\n",
    "        for i in range (math.floor(self.heapsize/2), -1, -1):\n",
    "            self.max_heapify(i)\n"
   ]
  },
  {
   "cell_type": "code",
   "execution_count": 64,
   "id": "4cc2c310-c891-45e7-aecf-6295bf094935",
   "metadata": {},
   "outputs": [],
   "source": [
    "def heapsort(A):\n",
    "    B = Heap(A)\n",
    "    B.build_max_heap()\n",
    "    B.heap_print()\n",
    "    for i in range (B.len-1, 0, -1):\n",
    "        B.arr[0], B.arr[i] = B.arr[i], B.arr[0]\n",
    "        B.heapsize = B.heapsize - 1\n",
    "        B.max_heapify(0)\n",
    "    A = B.arr\n",
    "    return A"
   ]
  },
  {
   "cell_type": "code",
   "execution_count": 107,
   "id": "9c6afa8b-1677-4099-b8b5-3a33c91ee4ac",
   "metadata": {},
   "outputs": [],
   "source": [
    "def partition(A, p, r):\n",
    "    x = A[r]\n",
    "    j = p - 1\n",
    "    for i in range(p, r):\n",
    "        if A[i] <= x:\n",
    "            j = j + 1\n",
    "            A[i], A[j] = A[j], A[i]\n",
    "    A[r], A[j+1] = A[j+1], A[r]\n",
    "    return j + 1\n",
    "\n",
    "def quick_sort(A, p = 0, r = A.size - 1):\n",
    "    if p <= r:\n",
    "        q = partition(A, p, r)\n",
    "        quick_sort(A, p, q - 1)\n",
    "        quick_sort(A, q + 1, r)\n",
    "    return A"
   ]
  },
  {
   "cell_type": "code",
   "execution_count": 153,
   "id": "ec889740-a707-4da7-8878-5086a38e07f0",
   "metadata": {},
   "outputs": [],
   "source": [
    "def count_sort(A, d1 = d):\n",
    "    C = np.zeros(d1).astype(int)\n",
    "    B = np.zeros(A.size).astype(int)\n",
    "    for i in range (A.size):\n",
    "        C[A[i]] = C[A[i]] + 1\n",
    "    for i in range (1, d1):\n",
    "        C[i] = C[i] + C[i - 1]\n",
    "    for i in range (A.size-1, -1, -1):\n",
    "        B[C[A[i]] - 1] = A[i]\n",
    "        C[A[i]] = C[A[i]] - 1\n",
    "    A = B\n",
    "    return A"
   ]
  },
  {
   "cell_type": "code",
   "execution_count": 154,
   "id": "dc4f410b-8e14-450e-8165-7a5aba34f817",
   "metadata": {},
   "outputs": [],
   "source": [
    "func_list = ['insertion_sort', ]"
   ]
  },
  {
   "cell_type": "code",
   "execution_count": 157,
   "id": "d884a454-4ac2-4e2d-87ce-5cd3096b0b7b",
   "metadata": {},
   "outputs": [
    {
     "data": {
      "text/plain": [
       "False"
      ]
     },
     "execution_count": 157,
     "metadata": {},
     "output_type": "execute_result"
    }
   ],
   "source": []
  },
  {
   "cell_type": "code",
   "execution_count": 160,
   "id": "13fe6a91-bfa0-46bd-89b5-8efc0d2af958",
   "metadata": {},
   "outputs": [],
   "source": [
    "import time"
   ]
  },
  {
   "cell_type": "code",
   "execution_count": 229,
   "id": "a0cad7cb-6e78-49ce-8e0e-7693de542c87",
   "metadata": {},
   "outputs": [],
   "source": [
    "d = 10000\n",
    "n = 500000000\n",
    "A = generate_array(n, d)"
   ]
  },
  {
   "cell_type": "code",
   "execution_count": 230,
   "id": "e4a23f2c-4811-4e17-9366-938a309e28bd",
   "metadata": {},
   "outputs": [
    {
     "name": "stdout",
     "output_type": "stream",
     "text": [
      "Runtime of the program is 59.99946594238281 ms\n"
     ]
    }
   ],
   "source": [
    "A_s = copy.deepcopy(A)\n",
    "start = time.time()\n",
    "A_s = quick_sort(A_s)\n",
    "end = time.time()\n",
    "print(f\"Runtime of the program is\",(end - start)*1000, 'ms')"
   ]
  },
  {
   "cell_type": "code",
   "execution_count": 214,
   "id": "aea1a897-6b2d-48d0-a5c5-be58d6a39ab0",
   "metadata": {},
   "outputs": [
    {
     "data": {
      "text/plain": [
       "False"
      ]
     },
     "execution_count": 214,
     "metadata": {},
     "output_type": "execute_result"
    }
   ],
   "source": [
    "(A_s == A).all()"
   ]
  },
  {
   "cell_type": "code",
   "execution_count": null,
   "id": "f3c7c30c-732e-4736-b17c-cb2455454915",
   "metadata": {},
   "outputs": [],
   "source": []
  }
 ],
 "metadata": {
  "kernelspec": {
   "display_name": "Python 3",
   "language": "python",
   "name": "python3"
  },
  "language_info": {
   "codemirror_mode": {
    "name": "ipython",
    "version": 3
   },
   "file_extension": ".py",
   "mimetype": "text/x-python",
   "name": "python",
   "nbconvert_exporter": "python",
   "pygments_lexer": "ipython3",
   "version": "3.8.8"
  }
 },
 "nbformat": 4,
 "nbformat_minor": 5
}
