{
 "cells": [
  {
   "cell_type": "code",
   "execution_count": 13,
   "id": "51ff1e85-d6e7-401b-8635-9d6d9cbec760",
   "metadata": {},
   "outputs": [],
   "source": [
    "def all_perms(elements):\n",
    "    if len(elements) <=1:\n",
    "        yield elements\n",
    "    else:\n",
    "        for perm in all_perms(elements[1:]):\n",
    "            for i in range(len(elements)):\n",
    "                yield perm[:i] + elements[0:1] + perm[i:]"
   ]
  },
  {
   "cell_type": "code",
   "execution_count": 14,
   "id": "169cf110-01a0-43dc-8505-e8a5e2ae5bf3",
   "metadata": {},
   "outputs": [],
   "source": [
    "from math import sqrt\n",
    "def distance (xy1 = (2), xy2 = (2)):\n",
    "    return sqrt((xy1[0] - xy2[0])**2 + (xy1[1] - xy2[1])**2)"
   ]
  },
  {
   "cell_type": "code",
   "execution_count": 15,
   "id": "dfe99ff6-552c-4bac-b681-529206932046",
   "metadata": {},
   "outputs": [],
   "source": [
    "points = {1: (0, 2),\n",
    "          2: (2, 5),\n",
    "          3: (5, 2),\n",
    "          4: (6, 6),\n",
    "          5: (8, 3),\n",
    "         }"
   ]
  },
  {
   "cell_type": "code",
   "execution_count": 16,
   "id": "03e397d0-1784-4dd1-9169-0fb8adac6b01",
   "metadata": {},
   "outputs": [
    {
     "name": "stdout",
     "output_type": "stream",
     "text": [
      "(0, 2) -> (2, 5) [3.605551275463989] -> (6, 6) [4.123105625617661] -> (8, 3) [3.605551275463989] -> (5, 2) [3.1622776601683795] = 19.49648583671402\n"
     ]
    }
   ],
   "source": [
    "try:\n",
    "    import numpy as np\n",
    "    min_sum = np.inf\n",
    "except:\n",
    "    min_sum = 99999\n",
    "    \n",
    "for i in all_perms(list(range(2, 6))):\n",
    "    curr_sum = 0\n",
    "    prev_pos = 1\n",
    "    for j in [1] + i + [1]:\n",
    "        curr_sum += distance(points[j], points[prev_pos])\n",
    "        prev_pos = j\n",
    "        \n",
    "    if min_sum > curr_sum:\n",
    "        min_sum = curr_sum\n",
    "        min_route = i\n",
    "        \n",
    "print(points[1], sep='', end='')\n",
    "prev_pos = 1\n",
    "for i in min_route:\n",
    "    print(f' -> {points[i]} [{distance(points[i], points[prev_pos])}]', sep='', end='')\n",
    "    prev_pos = i\n",
    "print(' = ', min_sum, sep='')"
   ]
  },
  {
   "cell_type": "code",
   "execution_count": null,
   "id": "a743c5aa-3251-4665-aba3-08a070667890",
   "metadata": {},
   "outputs": [],
   "source": []
  }
 ],
 "metadata": {
  "kernelspec": {
   "display_name": "Python 3",
   "language": "python",
   "name": "python3"
  },
  "language_info": {
   "codemirror_mode": {
    "name": "ipython",
    "version": 3
   },
   "file_extension": ".py",
   "mimetype": "text/x-python",
   "name": "python",
   "nbconvert_exporter": "python",
   "pygments_lexer": "ipython3",
   "version": "3.8.8"
  }
 },
 "nbformat": 4,
 "nbformat_minor": 5
}
